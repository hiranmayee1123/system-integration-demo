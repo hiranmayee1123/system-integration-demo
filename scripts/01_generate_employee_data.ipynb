{
 "cells": [
  {
   "cell_type": "code",
   "execution_count": 3,
   "id": "1b1ff716",
   "metadata": {},
   "outputs": [],
   "source": [
    "import pandas as pd\n",
    "import random\n",
    "import os"
   ]
  },
  {
   "cell_type": "code",
   "execution_count": 4,
   "id": "0bc311d0",
   "metadata": {},
   "outputs": [],
   "source": [
    "os.makedirs(\"../data\", exist_ok=True)"
   ]
  },
  {
   "cell_type": "code",
   "execution_count": 5,
   "id": "ee992e58",
   "metadata": {},
   "outputs": [],
   "source": [
    "# Define larger sample pools for variety\n",
    "first_names = [\n",
    "    \"Alice\", \"Bob\", \"Carol\", \"Dan\", \"Eve\", \"Frank\", \"Grace\", \"Hank\", \"Ivy\", \"Jake\",\n",
    "    \"Nina\", \"Omar\", \"Priya\", \"Quinn\", \"Raj\", \"Sara\", \"Tom\", \"Uma\", \"Vikram\", \"Wendy\",\n",
    "    \"Xavier\", \"Yara\", \"Zane\", \"Liam\", \"Noah\", \"Emma\", \"Olivia\", \"Ava\", \"Mason\", \"Sophia\"\n",
    "]\n",
    "last_names = [\n",
    "    \"Smith\", \"Johnson\", \"Lee\", \"Brown\", \"Williams\", \"Jones\", \"Garcia\", \"Martinez\", \"Taylor\", \"Anderson\",\n",
    "    \"Thomas\", \"Jackson\", \"White\", \"Harris\", \"Martin\", \"Clark\", \"Lewis\", \"Walker\", \"Hall\", \"Allen\"\n",
    "]\n",
    "\n",
    "departments = [\n",
    "    \"IT\", \"Finance\", \"HR\", \"Engineering\", \"Operations\", \"Marketing\", \"Support\", \"Legal\",\n",
    "    \"Sales\", \"Research\", \"Logistics\", \"Product\", \"Strategy\", \"Security\"\n",
    "]\n",
    "\n",
    "roles = {1: \"Junior Analyst\", 2: \"Analyst\", 3: \"Senior Analyst\"}\n"
   ]
  },
  {
   "cell_type": "code",
   "execution_count": 6,
   "id": "0c26cfa0",
   "metadata": {},
   "outputs": [],
   "source": [
    "# Generate 100 synthetic employee records\n",
    "data = []\n",
    "for i in range(1, 101):\n",
    "    name = f\"{random.choice(first_names)} {random.choice(last_names)}\"\n",
    "    email = name.lower().replace(\" \", \".\") + \"@examplecorp.com\"\n",
    "    tier = random.choice(list(roles.keys()))\n",
    "    role = roles[tier]\n",
    "    department = random.choice(departments)\n",
    "    start_date = f\"{random.randint(2019, 2024)}-08-01\"\n",
    "    data.append([i, name, email, role, department, start_date])"
   ]
  },
  {
   "cell_type": "code",
   "execution_count": 7,
   "id": "80b69706",
   "metadata": {},
   "outputs": [],
   "source": [
    "# Convert to DataFrame\n",
    "df = pd.DataFrame(data, columns=[\"id\", \"name\", \"email\", \"role\", \"department\", \"start_date\"])"
   ]
  },
  {
   "cell_type": "code",
   "execution_count": 8,
   "id": "2d949860",
   "metadata": {},
   "outputs": [
    {
     "name": "stdout",
     "output_type": "stream",
     "text": [
      "✅ 100-row employee_data.csv generated in ../data/\n"
     ]
    }
   ],
   "source": [
    "# Save to CSV\n",
    "df.to_csv(\"../data/employee_data.csv\", index=False)\n",
    "print(\"✅ 100-row employee_data.csv generated in ../data/\")\n"
   ]
  },
  {
   "cell_type": "code",
   "execution_count": null,
   "id": "60094747",
   "metadata": {},
   "outputs": [],
   "source": []
  }
 ],
 "metadata": {
  "kernelspec": {
   "display_name": "Python 3",
   "language": "python",
   "name": "python3"
  },
  "language_info": {
   "codemirror_mode": {
    "name": "ipython",
    "version": 3
   },
   "file_extension": ".py",
   "mimetype": "text/x-python",
   "name": "python",
   "nbconvert_exporter": "python",
   "pygments_lexer": "ipython3",
   "version": "3.13.3"
  }
 },
 "nbformat": 4,
 "nbformat_minor": 5
}
