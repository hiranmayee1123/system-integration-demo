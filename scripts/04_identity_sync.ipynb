{
 "cells": [
  {
   "cell_type": "code",
   "execution_count": 13,
   "id": "3401da0c",
   "metadata": {},
   "outputs": [],
   "source": [
    "import pandas as pd\n",
    "import sqlite3\n",
    "from datetime import datetime\n",
    "\n",
    "conn = sqlite3.connect(\"../data/student_roles.db\")\n",
    "today_year = datetime.today().year\n"
   ]
  },
  {
   "cell_type": "code",
   "execution_count": 15,
   "id": "884bcf6f",
   "metadata": {},
   "outputs": [
    {
     "name": "stdout",
     "output_type": "stream",
     "text": [
      "Employee statuses updated.\n"
     ]
    }
   ],
   "source": [
    "emp_df = pd.read_sql_query(\"SELECT * FROM employee_records\", conn)\n",
    "\n",
    "def compute_employee_status(start_date):\n",
    "    year = int(start_date.split(\"-\")[0])\n",
    "    return \"active\" if year <= today_year else \"pending\"\n",
    "\n",
    "emp_df[\"status\"] = emp_df[\"start_date\"].apply(compute_employee_status)\n",
    "emp_df.to_sql(\"employee_records\", conn, if_exists=\"replace\", index=False)\n",
    "print(\"Employee statuses updated.\")\n"
   ]
  },
  {
   "cell_type": "code",
   "execution_count": 19,
   "id": "6aab3264",
   "metadata": {},
   "outputs": [
    {
     "name": "stdout",
     "output_type": "stream",
     "text": [
      "Student statuses updated.\n"
     ]
    }
   ],
   "source": [
    "stu_df = pd.read_sql_query(\"SELECT * FROM student_roles\", conn)\n",
    "\n",
    "def compute_student_status(role, start_date):\n",
    "    year = int(start_date.split(\"-\")[0])\n",
    "    if role == \"Student\":\n",
    "        return \"active\" if year <= today_year else \"pending\"\n",
    "    return \"student_worker\"\n",
    "\n",
    "stu_df[\"status\"] = stu_df.apply(lambda row: compute_student_status(row[\"role\"], row[\"start_date\"]), axis=1)\n",
    "stu_df.to_sql(\"student_roles\", conn, if_exists=\"replace\", index=False)\n",
    "print(\"Student statuses updated.\")\n",
    "\n",
    "\n"
   ]
  },
  {
   "cell_type": "code",
   "execution_count": 22,
   "id": "f8948a6e",
   "metadata": {},
   "outputs": [
    {
     "name": "stdout",
     "output_type": "stream",
     "text": [
      "Provisioning queue created with active records only.\n"
     ]
    },
    {
     "name": "stderr",
     "output_type": "stream",
     "text": [
      "/var/folders/dp/gd305wgn2g17yhrhl87p5gfr0000gn/T/ipykernel_9685/2665041321.py:6: SettingWithCopyWarning: \n",
      "A value is trying to be set on a copy of a slice from a DataFrame\n",
      "\n",
      "See the caveats in the documentation: https://pandas.pydata.org/pandas-docs/stable/user_guide/indexing.html#returning-a-view-versus-a-copy\n",
      "  active_students.rename(columns={\"student_id\": \"id\"}, inplace=True)\n",
      "/var/folders/dp/gd305wgn2g17yhrhl87p5gfr0000gn/T/ipykernel_9685/2665041321.py:7: SettingWithCopyWarning: \n",
      "A value is trying to be set on a copy of a slice from a DataFrame.\n",
      "Try using .loc[row_indexer,col_indexer] = value instead\n",
      "\n",
      "See the caveats in the documentation: https://pandas.pydata.org/pandas-docs/stable/user_guide/indexing.html#returning-a-view-versus-a-copy\n",
      "  active_students[\"type\"] = \"student\"\n"
     ]
    }
   ],
   "source": [
    "# Generating provision_queue\n",
    "active_employees = emp_df[emp_df[\"status\"] == \"active\"]\n",
    "active_students = stu_df[stu_df[\"status\"] == \"active\"]\n",
    "\n",
    "active_employees[\"type\"] = \"employee\"\n",
    "active_students.rename(columns={\"student_id\": \"id\"}, inplace=True)\n",
    "active_students[\"type\"] = \"student\"\n",
    "\n",
    "active_employees = active_employees[[\"id\", \"name\", \"email\", \"department\", \"start_date\", \"type\"]]\n",
    "active_students = active_students[[\"id\", \"name\", \"email\", \"department\", \"start_date\", \"type\"]]\n",
    "\n",
    "provision_queue = pd.concat([active_employees, active_students])\n",
    "provision_queue.to_sql(\"provision_queue\", conn, if_exists=\"replace\", index=False)\n",
    "\n",
    "print(\"Provisioning queue created with active records only.\")\n",
    "\n",
    "conn.close()\n"
   ]
  },
  {
   "cell_type": "code",
   "execution_count": null,
   "id": "7bf7b49f",
   "metadata": {},
   "outputs": [],
   "source": []
  }
 ],
 "metadata": {
  "kernelspec": {
   "display_name": "Python 3",
   "language": "python",
   "name": "python3"
  },
  "language_info": {
   "codemirror_mode": {
    "name": "ipython",
    "version": 3
   },
   "file_extension": ".py",
   "mimetype": "text/x-python",
   "name": "python",
   "nbconvert_exporter": "python",
   "pygments_lexer": "ipython3",
   "version": "3.9.6"
  }
 },
 "nbformat": 4,
 "nbformat_minor": 5
}
