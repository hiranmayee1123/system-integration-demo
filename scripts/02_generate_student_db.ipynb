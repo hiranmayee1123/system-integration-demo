{
 "cells": [
  {
   "cell_type": "code",
   "execution_count": 1,
   "id": "a5013ad7",
   "metadata": {},
   "outputs": [],
   "source": [
    "import pandas as pd\n",
    "import sqlite3\n",
    "import random\n",
    "import os"
   ]
  },
  {
   "cell_type": "code",
   "execution_count": 2,
   "id": "af5b23e5",
   "metadata": {},
   "outputs": [],
   "source": [
    "# Ensure the data directory exists\n",
    "os.makedirs(\"../data\", exist_ok=True)\n"
   ]
  },
  {
   "cell_type": "code",
   "execution_count": 3,
   "id": "8162ee11",
   "metadata": {},
   "outputs": [],
   "source": [
    "\n",
    "# Sample data pools\n",
    "first_names = [\"Emma\", \"Liam\", \"Olivia\", \"Noah\", \"Ava\", \"Elijah\", \"Sophia\", \"James\", \"Isabella\", \"Lucas\"]\n",
    "last_names = [\"Anderson\", \"Clark\", \"Wright\", \"Hill\", \"Scott\", \"Young\", \"Hall\", \"Green\", \"Adams\", \"Nelson\"]\n",
    "departments = [\"Computer Science\", \"Biology\", \"Mathematics\", \"Psychology\", \"Economics\"]\n",
    "start_years = [2019, 2020, 2021, 2022, 2023]\n",
    "roles = [\"Student\", \"Teaching Assistant\", \"Research Assistant\"]\n"
   ]
  },
  {
   "cell_type": "code",
   "execution_count": 4,
   "id": "64f0a27a",
   "metadata": {},
   "outputs": [],
   "source": [
    "# Generate 100 synthetic students\n",
    "students = []\n",
    "for i in range(1001, 1101):\n",
    "    name = f\"{random.choice(first_names)} {random.choice(last_names)}\"\n",
    "    email = name.lower().replace(\" \", \".\") + \"@university.com\"\n",
    "    department = random.choice(departments)\n",
    "    start_date = f\"{random.choice(start_years)}-08-01\"\n",
    "    role = random.choice(roles)\n",
    "    students.append([i, name, email, department, start_date, role])"
   ]
  },
  {
   "cell_type": "code",
   "execution_count": 5,
   "id": "aa63eec4",
   "metadata": {},
   "outputs": [],
   "source": [
    "# Create a DataFrame\n",
    "student_df = pd.DataFrame(students, columns=[\"student_id\", \"name\", \"email\", \"department\", \"start_date\", \"role\"])\n"
   ]
  },
  {
   "cell_type": "code",
   "execution_count": 6,
   "id": "3ba0b1f4",
   "metadata": {},
   "outputs": [],
   "source": [
    "# Save as SQLite database\n",
    "conn = sqlite3.connect(\"../data/student_roles.db\")\n",
    "student_df.to_sql(\"student_roles\", conn, if_exists=\"replace\", index=False)\n",
    "conn.close()"
   ]
  },
  {
   "cell_type": "code",
   "execution_count": null,
   "id": "0ae337dd",
   "metadata": {},
   "outputs": [],
   "source": []
  }
 ],
 "metadata": {
  "kernelspec": {
   "display_name": "Python 3",
   "language": "python",
   "name": "python3"
  },
  "language_info": {
   "codemirror_mode": {
    "name": "ipython",
    "version": 3
   },
   "file_extension": ".py",
   "mimetype": "text/x-python",
   "name": "python",
   "nbconvert_exporter": "python",
   "pygments_lexer": "ipython3",
   "version": "3.13.3"
  }
 },
 "nbformat": 4,
 "nbformat_minor": 5
}
